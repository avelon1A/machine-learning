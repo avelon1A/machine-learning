{
 "cells": [
  {
   "cell_type": "code",
   "execution_count": 2,
   "id": "9b67be61",
   "metadata": {},
   "outputs": [],
   "source": [
    "import pandas as pd\n",
    "import matplotlib.pyplot as plt \n",
    "import seaborn as sns"
   ]
  },
  {
   "cell_type": "code",
   "execution_count": 4,
   "id": "4643ddec",
   "metadata": {},
   "outputs": [],
   "source": [
    "df =pd.read_csv(r'C:\\Users\\asus\\Downloads\\USA_Housing.csv')"
   ]
  },
  {
   "cell_type": "code",
   "execution_count": 6,
   "id": "e19456aa",
   "metadata": {},
   "outputs": [
    {
     "data": {
      "text/html": [
       "<div>\n",
       "<style scoped>\n",
       "    .dataframe tbody tr th:only-of-type {\n",
       "        vertical-align: middle;\n",
       "    }\n",
       "\n",
       "    .dataframe tbody tr th {\n",
       "        vertical-align: top;\n",
       "    }\n",
       "\n",
       "    .dataframe thead th {\n",
       "        text-align: right;\n",
       "    }\n",
       "</style>\n",
       "<table border=\"1\" class=\"dataframe\">\n",
       "  <thead>\n",
       "    <tr style=\"text-align: right;\">\n",
       "      <th></th>\n",
       "      <th>Avg. Area Income</th>\n",
       "      <th>Avg. Area House Age</th>\n",
       "      <th>Avg. Area Number of Rooms</th>\n",
       "      <th>Avg. Area Number of Bedrooms</th>\n",
       "      <th>Area Population</th>\n",
       "      <th>Price</th>\n",
       "      <th>Address</th>\n",
       "    </tr>\n",
       "  </thead>\n",
       "  <tbody>\n",
       "    <tr>\n",
       "      <th>0</th>\n",
       "      <td>79545.458574</td>\n",
       "      <td>5.682861</td>\n",
       "      <td>7.009188</td>\n",
       "      <td>4.09</td>\n",
       "      <td>23086.800503</td>\n",
       "      <td>1.059034e+06</td>\n",
       "      <td>208 Michael Ferry Apt. 674\\nLaurabury, NE 3701...</td>\n",
       "    </tr>\n",
       "    <tr>\n",
       "      <th>1</th>\n",
       "      <td>79248.642455</td>\n",
       "      <td>6.002900</td>\n",
       "      <td>6.730821</td>\n",
       "      <td>3.09</td>\n",
       "      <td>40173.072174</td>\n",
       "      <td>1.505891e+06</td>\n",
       "      <td>188 Johnson Views Suite 079\\nLake Kathleen, CA...</td>\n",
       "    </tr>\n",
       "    <tr>\n",
       "      <th>2</th>\n",
       "      <td>61287.067179</td>\n",
       "      <td>5.865890</td>\n",
       "      <td>8.512727</td>\n",
       "      <td>5.13</td>\n",
       "      <td>36882.159400</td>\n",
       "      <td>1.058988e+06</td>\n",
       "      <td>9127 Elizabeth Stravenue\\nDanieltown, WI 06482...</td>\n",
       "    </tr>\n",
       "    <tr>\n",
       "      <th>3</th>\n",
       "      <td>63345.240046</td>\n",
       "      <td>7.188236</td>\n",
       "      <td>5.586729</td>\n",
       "      <td>3.26</td>\n",
       "      <td>34310.242831</td>\n",
       "      <td>1.260617e+06</td>\n",
       "      <td>USS Barnett\\nFPO AP 44820</td>\n",
       "    </tr>\n",
       "    <tr>\n",
       "      <th>4</th>\n",
       "      <td>59982.197226</td>\n",
       "      <td>5.040555</td>\n",
       "      <td>7.839388</td>\n",
       "      <td>4.23</td>\n",
       "      <td>26354.109472</td>\n",
       "      <td>6.309435e+05</td>\n",
       "      <td>USNS Raymond\\nFPO AE 09386</td>\n",
       "    </tr>\n",
       "  </tbody>\n",
       "</table>\n",
       "</div>"
      ],
      "text/plain": [
       "   Avg. Area Income  Avg. Area House Age  Avg. Area Number of Rooms  \\\n",
       "0      79545.458574             5.682861                   7.009188   \n",
       "1      79248.642455             6.002900                   6.730821   \n",
       "2      61287.067179             5.865890                   8.512727   \n",
       "3      63345.240046             7.188236                   5.586729   \n",
       "4      59982.197226             5.040555                   7.839388   \n",
       "\n",
       "   Avg. Area Number of Bedrooms  Area Population         Price  \\\n",
       "0                          4.09     23086.800503  1.059034e+06   \n",
       "1                          3.09     40173.072174  1.505891e+06   \n",
       "2                          5.13     36882.159400  1.058988e+06   \n",
       "3                          3.26     34310.242831  1.260617e+06   \n",
       "4                          4.23     26354.109472  6.309435e+05   \n",
       "\n",
       "                                             Address  \n",
       "0  208 Michael Ferry Apt. 674\\nLaurabury, NE 3701...  \n",
       "1  188 Johnson Views Suite 079\\nLake Kathleen, CA...  \n",
       "2  9127 Elizabeth Stravenue\\nDanieltown, WI 06482...  \n",
       "3                          USS Barnett\\nFPO AP 44820  \n",
       "4                         USNS Raymond\\nFPO AE 09386  "
      ]
     },
     "execution_count": 6,
     "metadata": {},
     "output_type": "execute_result"
    }
   ],
   "source": [
    "df.head()"
   ]
  },
  {
   "cell_type": "code",
   "execution_count": 7,
   "id": "019ac465",
   "metadata": {},
   "outputs": [
    {
     "data": {
      "text/plain": [
       "Avg. Area Income                0\n",
       "Avg. Area House Age             0\n",
       "Avg. Area Number of Rooms       0\n",
       "Avg. Area Number of Bedrooms    0\n",
       "Area Population                 0\n",
       "Price                           0\n",
       "Address                         0\n",
       "dtype: int64"
      ]
     },
     "execution_count": 7,
     "metadata": {},
     "output_type": "execute_result"
    }
   ],
   "source": [
    "df.isnull().sum()"
   ]
  },
  {
   "cell_type": "code",
   "execution_count": null,
   "id": "a3547080",
   "metadata": {},
   "outputs": [],
   "source": [
    "df.heatmap()"
   ]
  },
  {
   "cell_type": "code",
   "execution_count": 8,
   "id": "4955e111",
   "metadata": {},
   "outputs": [],
   "source": [
    "#df[df['tip'].min()==df['tip']][['day','tip']].head(1)"
   ]
  },
  {
   "cell_type": "code",
   "execution_count": 16,
   "id": "35910318",
   "metadata": {},
   "outputs": [
    {
     "ename": "KeyError",
     "evalue": "'price'",
     "output_type": "error",
     "traceback": [
      "\u001b[1;31m---------------------------------------------------------------------------\u001b[0m",
      "\u001b[1;31mKeyError\u001b[0m                                  Traceback (most recent call last)",
      "File \u001b[1;32m~\\AppData\\Local\\Packages\\PythonSoftwareFoundation.Python.3.10_qbz5n2kfra8p0\\LocalCache\\local-packages\\Python310\\site-packages\\pandas\\core\\indexes\\base.py:3621\u001b[0m, in \u001b[0;36mIndex.get_loc\u001b[1;34m(self, key, method, tolerance)\u001b[0m\n\u001b[0;32m   3620\u001b[0m \u001b[38;5;28;01mtry\u001b[39;00m:\n\u001b[1;32m-> 3621\u001b[0m     \u001b[38;5;28;01mreturn\u001b[39;00m \u001b[38;5;28;43mself\u001b[39;49m\u001b[38;5;241;43m.\u001b[39;49m\u001b[43m_engine\u001b[49m\u001b[38;5;241;43m.\u001b[39;49m\u001b[43mget_loc\u001b[49m\u001b[43m(\u001b[49m\u001b[43mcasted_key\u001b[49m\u001b[43m)\u001b[49m\n\u001b[0;32m   3622\u001b[0m \u001b[38;5;28;01mexcept\u001b[39;00m \u001b[38;5;167;01mKeyError\u001b[39;00m \u001b[38;5;28;01mas\u001b[39;00m err:\n",
      "File \u001b[1;32m~\\AppData\\Local\\Packages\\PythonSoftwareFoundation.Python.3.10_qbz5n2kfra8p0\\LocalCache\\local-packages\\Python310\\site-packages\\pandas\\_libs\\index.pyx:136\u001b[0m, in \u001b[0;36mpandas._libs.index.IndexEngine.get_loc\u001b[1;34m()\u001b[0m\n",
      "File \u001b[1;32m~\\AppData\\Local\\Packages\\PythonSoftwareFoundation.Python.3.10_qbz5n2kfra8p0\\LocalCache\\local-packages\\Python310\\site-packages\\pandas\\_libs\\index.pyx:163\u001b[0m, in \u001b[0;36mpandas._libs.index.IndexEngine.get_loc\u001b[1;34m()\u001b[0m\n",
      "File \u001b[1;32mpandas\\_libs\\hashtable_class_helper.pxi:5198\u001b[0m, in \u001b[0;36mpandas._libs.hashtable.PyObjectHashTable.get_item\u001b[1;34m()\u001b[0m\n",
      "File \u001b[1;32mpandas\\_libs\\hashtable_class_helper.pxi:5206\u001b[0m, in \u001b[0;36mpandas._libs.hashtable.PyObjectHashTable.get_item\u001b[1;34m()\u001b[0m\n",
      "\u001b[1;31mKeyError\u001b[0m: 'price'",
      "\nThe above exception was the direct cause of the following exception:\n",
      "\u001b[1;31mKeyError\u001b[0m                                  Traceback (most recent call last)",
      "Input \u001b[1;32mIn [16]\u001b[0m, in \u001b[0;36m<cell line: 1>\u001b[1;34m()\u001b[0m\n\u001b[1;32m----> 1\u001b[0m sns\u001b[38;5;241m.\u001b[39mdistplot(\u001b[43mdf\u001b[49m\u001b[43m[\u001b[49m\u001b[38;5;124;43m'\u001b[39;49m\u001b[38;5;124;43mprice\u001b[39;49m\u001b[38;5;124;43m'\u001b[39;49m\u001b[43m]\u001b[49m)\n",
      "File \u001b[1;32m~\\AppData\\Local\\Packages\\PythonSoftwareFoundation.Python.3.10_qbz5n2kfra8p0\\LocalCache\\local-packages\\Python310\\site-packages\\pandas\\core\\frame.py:3505\u001b[0m, in \u001b[0;36mDataFrame.__getitem__\u001b[1;34m(self, key)\u001b[0m\n\u001b[0;32m   3503\u001b[0m \u001b[38;5;28;01mif\u001b[39;00m \u001b[38;5;28mself\u001b[39m\u001b[38;5;241m.\u001b[39mcolumns\u001b[38;5;241m.\u001b[39mnlevels \u001b[38;5;241m>\u001b[39m \u001b[38;5;241m1\u001b[39m:\n\u001b[0;32m   3504\u001b[0m     \u001b[38;5;28;01mreturn\u001b[39;00m \u001b[38;5;28mself\u001b[39m\u001b[38;5;241m.\u001b[39m_getitem_multilevel(key)\n\u001b[1;32m-> 3505\u001b[0m indexer \u001b[38;5;241m=\u001b[39m \u001b[38;5;28;43mself\u001b[39;49m\u001b[38;5;241;43m.\u001b[39;49m\u001b[43mcolumns\u001b[49m\u001b[38;5;241;43m.\u001b[39;49m\u001b[43mget_loc\u001b[49m\u001b[43m(\u001b[49m\u001b[43mkey\u001b[49m\u001b[43m)\u001b[49m\n\u001b[0;32m   3506\u001b[0m \u001b[38;5;28;01mif\u001b[39;00m is_integer(indexer):\n\u001b[0;32m   3507\u001b[0m     indexer \u001b[38;5;241m=\u001b[39m [indexer]\n",
      "File \u001b[1;32m~\\AppData\\Local\\Packages\\PythonSoftwareFoundation.Python.3.10_qbz5n2kfra8p0\\LocalCache\\local-packages\\Python310\\site-packages\\pandas\\core\\indexes\\base.py:3623\u001b[0m, in \u001b[0;36mIndex.get_loc\u001b[1;34m(self, key, method, tolerance)\u001b[0m\n\u001b[0;32m   3621\u001b[0m     \u001b[38;5;28;01mreturn\u001b[39;00m \u001b[38;5;28mself\u001b[39m\u001b[38;5;241m.\u001b[39m_engine\u001b[38;5;241m.\u001b[39mget_loc(casted_key)\n\u001b[0;32m   3622\u001b[0m \u001b[38;5;28;01mexcept\u001b[39;00m \u001b[38;5;167;01mKeyError\u001b[39;00m \u001b[38;5;28;01mas\u001b[39;00m err:\n\u001b[1;32m-> 3623\u001b[0m     \u001b[38;5;28;01mraise\u001b[39;00m \u001b[38;5;167;01mKeyError\u001b[39;00m(key) \u001b[38;5;28;01mfrom\u001b[39;00m \u001b[38;5;21;01merr\u001b[39;00m\n\u001b[0;32m   3624\u001b[0m \u001b[38;5;28;01mexcept\u001b[39;00m \u001b[38;5;167;01mTypeError\u001b[39;00m:\n\u001b[0;32m   3625\u001b[0m     \u001b[38;5;66;03m# If we have a listlike key, _check_indexing_error will raise\u001b[39;00m\n\u001b[0;32m   3626\u001b[0m     \u001b[38;5;66;03m#  InvalidIndexError. Otherwise we fall through and re-raise\u001b[39;00m\n\u001b[0;32m   3627\u001b[0m     \u001b[38;5;66;03m#  the TypeError.\u001b[39;00m\n\u001b[0;32m   3628\u001b[0m     \u001b[38;5;28mself\u001b[39m\u001b[38;5;241m.\u001b[39m_check_indexing_error(key)\n",
      "\u001b[1;31mKeyError\u001b[0m: 'price'"
     ]
    }
   ],
   "source": []
  },
  {
   "cell_type": "code",
   "execution_count": 12,
   "id": "eff04321",
   "metadata": {},
   "outputs": [
    {
     "data": {
      "text/html": [
       "<div>\n",
       "<style scoped>\n",
       "    .dataframe tbody tr th:only-of-type {\n",
       "        vertical-align: middle;\n",
       "    }\n",
       "\n",
       "    .dataframe tbody tr th {\n",
       "        vertical-align: top;\n",
       "    }\n",
       "\n",
       "    .dataframe thead th {\n",
       "        text-align: right;\n",
       "    }\n",
       "</style>\n",
       "<table border=\"1\" class=\"dataframe\">\n",
       "  <thead>\n",
       "    <tr style=\"text-align: right;\">\n",
       "      <th></th>\n",
       "      <th>Avg. Area Income</th>\n",
       "      <th>Avg. Area Number of Bedrooms</th>\n",
       "    </tr>\n",
       "  </thead>\n",
       "  <tbody>\n",
       "    <tr>\n",
       "      <th>181</th>\n",
       "      <td>65316.996021</td>\n",
       "      <td>2.0</td>\n",
       "    </tr>\n",
       "    <tr>\n",
       "      <th>340</th>\n",
       "      <td>69330.741220</td>\n",
       "      <td>2.0</td>\n",
       "    </tr>\n",
       "    <tr>\n",
       "      <th>620</th>\n",
       "      <td>78020.039526</td>\n",
       "      <td>2.0</td>\n",
       "    </tr>\n",
       "    <tr>\n",
       "      <th>662</th>\n",
       "      <td>69333.682191</td>\n",
       "      <td>2.0</td>\n",
       "    </tr>\n",
       "    <tr>\n",
       "      <th>859</th>\n",
       "      <td>62972.003987</td>\n",
       "      <td>2.0</td>\n",
       "    </tr>\n",
       "    <tr>\n",
       "      <th>986</th>\n",
       "      <td>57098.202400</td>\n",
       "      <td>2.0</td>\n",
       "    </tr>\n",
       "    <tr>\n",
       "      <th>1544</th>\n",
       "      <td>61865.423218</td>\n",
       "      <td>2.0</td>\n",
       "    </tr>\n",
       "    <tr>\n",
       "      <th>1558</th>\n",
       "      <td>73965.370271</td>\n",
       "      <td>2.0</td>\n",
       "    </tr>\n",
       "    <tr>\n",
       "      <th>1729</th>\n",
       "      <td>53173.345282</td>\n",
       "      <td>2.0</td>\n",
       "    </tr>\n",
       "    <tr>\n",
       "      <th>1854</th>\n",
       "      <td>73491.265814</td>\n",
       "      <td>2.0</td>\n",
       "    </tr>\n",
       "    <tr>\n",
       "      <th>2212</th>\n",
       "      <td>66407.791447</td>\n",
       "      <td>2.0</td>\n",
       "    </tr>\n",
       "    <tr>\n",
       "      <th>2280</th>\n",
       "      <td>81909.506926</td>\n",
       "      <td>2.0</td>\n",
       "    </tr>\n",
       "    <tr>\n",
       "      <th>2310</th>\n",
       "      <td>63783.531301</td>\n",
       "      <td>2.0</td>\n",
       "    </tr>\n",
       "    <tr>\n",
       "      <th>2947</th>\n",
       "      <td>72259.582734</td>\n",
       "      <td>2.0</td>\n",
       "    </tr>\n",
       "    <tr>\n",
       "      <th>3060</th>\n",
       "      <td>73145.485756</td>\n",
       "      <td>2.0</td>\n",
       "    </tr>\n",
       "    <tr>\n",
       "      <th>3313</th>\n",
       "      <td>68535.892232</td>\n",
       "      <td>2.0</td>\n",
       "    </tr>\n",
       "    <tr>\n",
       "      <th>3650</th>\n",
       "      <td>70299.016303</td>\n",
       "      <td>2.0</td>\n",
       "    </tr>\n",
       "    <tr>\n",
       "      <th>3903</th>\n",
       "      <td>68099.653438</td>\n",
       "      <td>2.0</td>\n",
       "    </tr>\n",
       "    <tr>\n",
       "      <th>4024</th>\n",
       "      <td>70507.747019</td>\n",
       "      <td>2.0</td>\n",
       "    </tr>\n",
       "    <tr>\n",
       "      <th>4526</th>\n",
       "      <td>69664.075765</td>\n",
       "      <td>2.0</td>\n",
       "    </tr>\n",
       "  </tbody>\n",
       "</table>\n",
       "</div>"
      ],
      "text/plain": [
       "      Avg. Area Income  Avg. Area Number of Bedrooms\n",
       "181       65316.996021                           2.0\n",
       "340       69330.741220                           2.0\n",
       "620       78020.039526                           2.0\n",
       "662       69333.682191                           2.0\n",
       "859       62972.003987                           2.0\n",
       "986       57098.202400                           2.0\n",
       "1544      61865.423218                           2.0\n",
       "1558      73965.370271                           2.0\n",
       "1729      53173.345282                           2.0\n",
       "1854      73491.265814                           2.0\n",
       "2212      66407.791447                           2.0\n",
       "2280      81909.506926                           2.0\n",
       "2310      63783.531301                           2.0\n",
       "2947      72259.582734                           2.0\n",
       "3060      73145.485756                           2.0\n",
       "3313      68535.892232                           2.0\n",
       "3650      70299.016303                           2.0\n",
       "3903      68099.653438                           2.0\n",
       "4024      70507.747019                           2.0\n",
       "4526      69664.075765                           2.0"
      ]
     },
     "execution_count": 12,
     "metadata": {},
     "output_type": "execute_result"
    }
   ],
   "source": [
    "df[df['Avg. Area Number of Bedrooms'].min()==df['Avg. Area Number of Bedrooms']][['Avg. Area Income','Avg. Area Number of Bedrooms']]\n"
   ]
  },
  {
   "cell_type": "code",
   "execution_count": 13,
   "id": "1e367d7a",
   "metadata": {},
   "outputs": [],
   "source": [
    "#avg_bill_on_time = df[df['total_bill']==df['total_bill'].mean()]['time']"
   ]
  },
  {
   "cell_type": "code",
   "execution_count": 18,
   "id": "fb5309ef",
   "metadata": {},
   "outputs": [
    {
     "name": "stderr",
     "output_type": "stream",
     "text": [
      "C:\\Users\\asus\\AppData\\Local\\Packages\\PythonSoftwareFoundation.Python.3.10_qbz5n2kfra8p0\\LocalCache\\local-packages\\Python310\\site-packages\\seaborn\\distributions.py:2619: FutureWarning: `distplot` is a deprecated function and will be removed in a future version. Please adapt your code to use either `displot` (a figure-level function with similar flexibility) or `histplot` (an axes-level function for histograms).\n",
      "  warnings.warn(msg, FutureWarning)\n"
     ]
    },
    {
     "data": {
      "text/plain": [
       "<AxesSubplot:xlabel='Price', ylabel='Density'>"
      ]
     },
     "execution_count": 18,
     "metadata": {},
     "output_type": "execute_result"
    },
    {
     "data": {
      "image/png": "[encoded data removed]",
      "text/plain": [
       "<Figure size 432x288 with 1 Axes>"
      ]
     },
     "metadata": {
      "needs_background": "light"
     },
     "output_type": "display_data"
    }
   ],
   "source": [
    "sns.distplot(df['Price'])"
   ]
  },
  {
   "cell_type": "code",
   "execution_count": 19,
   "id": "829ae2c7",
   "metadata": {},
   "outputs": [],
   "source": [
    "from sklearn.model_selection import train_test_split"
   ]
  },
  {
   "cell_type": "code",
   "execution_count": 20,
   "id": "edb7a53a",
   "metadata": {},
   "outputs": [],
   "source": []
  },
  {
   "cell_type": "code",
   "execution_count": 25,
   "id": "548fc736",
   "metadata": {},
   "outputs": [
    {
     "data": {
      "text/plain": [
       "Index(['Avg. Area Income', 'Avg. Area House Age', 'Avg. Area Number of Rooms',\n",
       "       'Avg. Area Number of Bedrooms', 'Area Population', 'Price', 'Address'],\n",
       "      dtype='object')"
      ]
     },
     "execution_count": 25,
     "metadata": {},
     "output_type": "execute_result"
    }
   ],
   "source": [
    "df.columns"
   ]
  },
  {
   "cell_type": "code",
   "execution_count": 34,
   "id": "5fc35b65",
   "metadata": {},
   "outputs": [],
   "source": [
    "X =df[['Avg. Area Income', 'Avg. Area House Age', 'Avg. Area Number of Rooms',\n",
    "       'Avg. Area Number of Bedrooms', 'Area Population']]\n",
    "y =df['Price']\n"
   ]
  },
  {
   "cell_type": "code",
   "execution_count": 36,
   "id": "79b913ff",
   "metadata": {},
   "outputs": [],
   "source": [
    " X_train, X_test, y_train, y_test = train_test_split( X, y, test_size=0.2, random_state=101)"
   ]
  },
  {
   "cell_type": "code",
   "execution_count": 37,
   "id": "4add4df8",
   "metadata": {},
   "outputs": [],
   "source": [
    "from sklearn.linear_model import LinearRegression"
   ]
  },
  {
   "cell_type": "code",
   "execution_count": 38,
   "id": "c673b58d",
   "metadata": {},
   "outputs": [],
   "source": [
    "lr = LinearRegression()"
   ]
  },
  {
   "cell_type": "code",
   "execution_count": 39,
   "id": "cf11f098",
   "metadata": {},
   "outputs": [
    {
     "data": {
      "text/html": [
       "<style>#sk-container-id-1 {color: black;background-color: white;}#sk-container-id-1 pre{padding: 0;}#sk-container-id-1 div.sk-toggleable {background-color: white;}#sk-container-id-1 label.sk-toggleable__label {cursor: pointer;display: block;width: 100%;margin-bottom: 0;padding: 0.3em;box-sizing: border-box;text-align: center;}#sk-container-id-1 label.sk-toggleable__label-arrow:before {content: \"▸\";float: left;margin-right: 0.25em;color: #696969;}#sk-container-id-1 label.sk-toggleable__label-arrow:hover:before {color: black;}#sk-container-id-1 div.sk-estimator:hover label.sk-toggleable__label-arrow:before {color: black;}#sk-container-id-1 div.sk-toggleable__content {max-height: 0;max-width: 0;overflow: hidden;text-align: left;background-color: #f0f8ff;}#sk-container-id-1 div.sk-toggleable__content pre {margin: 0.2em;color: black;border-radius: 0.25em;background-color: #f0f8ff;}#sk-container-id-1 input.sk-toggleable__control:checked~div.sk-toggleable__content {max-height: 200px;max-width: 100%;overflow: auto;}#sk-container-id-1 input.sk-toggleable__control:checked~label.sk-toggleable__label-arrow:before {content: \"▾\";}#sk-container-id-1 div.sk-estimator input.sk-toggleable__control:checked~label.sk-toggleable__label {background-color: #d4ebff;}#sk-container-id-1 div.sk-label input.sk-toggleable__control:checked~label.sk-toggleable__label {background-color: #d4ebff;}#sk-container-id-1 input.sk-hidden--visually {border: 0;clip: rect(1px 1px 1px 1px);clip: rect(1px, 1px, 1px, 1px);height: 1px;margin: -1px;overflow: hidden;padding: 0;position: absolute;width: 1px;}#sk-container-id-1 div.sk-estimator {font-family: monospace;background-color: #f0f8ff;border: 1px dotted black;border-radius: 0.25em;box-sizing: border-box;margin-bottom: 0.5em;}#sk-container-id-1 div.sk-estimator:hover {background-color: #d4ebff;}#sk-container-id-1 div.sk-parallel-item::after {content: \"\";width: 100%;border-bottom: 1px solid gray;flex-grow: 1;}#sk-container-id-1 div.sk-label:hover label.sk-toggleable__label {background-color: #d4ebff;}#sk-container-id-1 div.sk-serial::before {content: \"\";position: absolute;border-left: 1px solid gray;box-sizing: border-box;top: 0;bottom: 0;left: 50%;z-index: 0;}#sk-container-id-1 div.sk-serial {display: flex;flex-direction: column;align-items: center;background-color: white;padding-right: 0.2em;padding-left: 0.2em;position: relative;}#sk-container-id-1 div.sk-item {position: relative;z-index: 1;}#sk-container-id-1 div.sk-parallel {display: flex;align-items: stretch;justify-content: center;background-color: white;position: relative;}#sk-container-id-1 div.sk-item::before, #sk-container-id-1 div.sk-parallel-item::before {content: \"\";position: absolute;border-left: 1px solid gray;box-sizing: border-box;top: 0;bottom: 0;left: 50%;z-index: -1;}#sk-container-id-1 div.sk-parallel-item {display: flex;flex-direction: column;z-index: 1;position: relative;background-color: white;}#sk-container-id-1 div.sk-parallel-item:first-child::after {align-self: flex-end;width: 50%;}#sk-container-id-1 div.sk-parallel-item:last-child::after {align-self: flex-start;width: 50%;}#sk-container-id-1 div.sk-parallel-item:only-child::after {width: 0;}#sk-container-id-1 div.sk-dashed-wrapped {border: 1px dashed gray;margin: 0 0.4em 0.5em 0.4em;box-sizing: border-box;padding-bottom: 0.4em;background-color: white;}#sk-container-id-1 div.sk-label label {font-family: monospace;font-weight: bold;display: inline-block;line-height: 1.2em;}#sk-container-id-1 div.sk-label-container {text-align: center;}#sk-container-id-1 div.sk-container {/* jupyter's `normalize.less` sets `[hidden] { display: none; }` but bootstrap.min.css set `[hidden] { display: none !important; }` so we also need the `!important` here to be able to override the default hidden behavior on the sphinx rendered scikit-learn.org. See: https://github.com/scikit-learn/scikit-learn/issues/21755 */display: inline-block !important;position: relative;}#sk-container-id-1 div.sk-text-repr-fallback {display: none;}</style><div id=\"sk-container-id-1\" class=\"sk-top-container\"><div class=\"sk-text-repr-fallback\"><pre>LinearRegression()</pre><b>In a Jupyter environment, please rerun this cell to show the HTML representation or trust the notebook. <br />On GitHub, the HTML representation is unable to render, please try loading this page with nbviewer.org.</b></div><div class=\"sk-container\" hidden><div class=\"sk-item\"><div class=\"sk-estimator sk-toggleable\"><input class=\"sk-toggleable__control sk-hidden--visually\" id=\"sk-estimator-id-1\" type=\"checkbox\" checked><label for=\"sk-estimator-id-1\" class=\"sk-toggleable__label sk-toggleable__label-arrow\">LinearRegression</label><div class=\"sk-toggleable__content\"><pre>LinearRegression()</pre></div></div></div></div></div>"
      ],
      "text/plain": [
       "LinearRegression()"
      ]
     },
     "execution_count": 39,
     "metadata": {},
     "output_type": "execute_result"
    }
   ],
   "source": [
    "lr.fit(X_train,y_train)"
   ]
  },
  {
   "cell_type": "code",
   "execution_count": 40,
   "id": "90d912db",
   "metadata": {},
   "outputs": [
    {
     "data": {
      "text/plain": [
       "-2640441.3997814017"
      ]
     },
     "execution_count": 40,
     "metadata": {},
     "output_type": "execute_result"
    }
   ],
   "source": [
    "lr.intercept_"
   ]
  },
  {
   "cell_type": "code",
   "execution_count": 41,
   "id": "6405e18a",
   "metadata": {},
   "outputs": [
    {
     "data": {
      "text/plain": [
       "array([2.15666957e+01, 1.65453042e+05, 1.20499839e+05, 1.99978534e+03,\n",
       "       1.53406038e+01])"
      ]
     },
     "execution_count": 41,
     "metadata": {},
     "output_type": "execute_result"
    }
   ],
   "source": [
    "lr.coef_\n"
   ]
  },
  {
   "cell_type": "code",
   "execution_count": 43,
   "id": "46751b7f",
   "metadata": {},
   "outputs": [
    {
     "data": {
      "text/plain": [
       "array([1257919.729097  ,  822112.41884197, 1740669.05865495,\n",
       "        972452.12917494,  993422.26329315,  644126.07414456,\n",
       "       1073911.79101682,  856584.00194133, 1445318.25518365,\n",
       "       1204342.19071174, 1455792.46212863, 1298556.65696433,\n",
       "       1735924.33836095, 1336925.77577789, 1387637.43231922,\n",
       "       1222403.77772069,  613786.28691982,  963933.54416267,\n",
       "       1221197.33050139, 1198071.57563599,  505861.89531673,\n",
       "       1769106.54723353, 1853881.16842511, 1200369.50507868,\n",
       "       1065129.1285072 , 1812033.73067312, 1768686.47091262,\n",
       "       1439920.83814323, 1387251.99649376, 1541178.39224181,\n",
       "        726418.80504278, 1754497.60908688, 1462185.72653198,\n",
       "       1025600.16081145, 1284926.8685155 ,  917454.59590853,\n",
       "       1187046.94956865,  999330.91117487, 1329536.63409595,\n",
       "        782191.60441437, 1393272.03053841,  578216.88394851,\n",
       "        822643.37151048, 1895533.11413226, 1672019.84892041,\n",
       "        966926.45434583, 1129674.55638146,  792797.75914663,\n",
       "       1161057.18412143, 1472396.71417164, 1457656.70412313,\n",
       "       1162939.334229  , 1099453.68110992, 1358107.44619413,\n",
       "        841103.70380593,  986322.30573616, 1123323.53002134,\n",
       "       1253538.63235181, 1428279.66304074,  499103.20906177,\n",
       "       1462817.08350573, 1108744.36856804,  660588.51700889,\n",
       "       1247031.59801316, 1342744.55515752, 1357505.99080656,\n",
       "        818858.41205464, 1487168.7491193 , 1396247.6559861 ,\n",
       "        885078.37963981,  857545.83060842, 1212816.45100842,\n",
       "       1101069.27148301, 1834591.82895367,  924022.96601965,\n",
       "        855346.8084446 ,  822070.44924512, 1397829.2123058 ,\n",
       "        775933.8643152 , 1638075.3740563 , 1079223.32119183,\n",
       "       1355542.10150295, 1321447.90227179, 1198773.49593884,\n",
       "        757960.00844907,  649708.59768215, 1058567.42526768,\n",
       "       1384318.81434923, 1030349.32788272, 1297790.45656826,\n",
       "        550588.21509211, 1706268.87594955,  840478.99085965,\n",
       "       1627285.73221856, 1051446.08561746,  947163.26591115,\n",
       "       1187965.14618703, 1556566.4890801 ,  900538.67981881,\n",
       "        995246.18312522, 1221693.84495786, 1592557.49052096,\n",
       "        977671.97252197, 1428171.2008612 , 1015834.61615161,\n",
       "       1448110.17850637,  877865.27098758,  831194.85890213,\n",
       "       1022735.97232827, 1844169.94971864, 1925418.90852406,\n",
       "       1405526.2235022 , 1042730.58532361, 1056912.41311355,\n",
       "       1440167.01805755, 1029466.31854915, 1188198.60368704,\n",
       "       1407875.62844789, 1266581.80632292, 1562660.40296843,\n",
       "        767006.37537442, 1394809.1474023 , 2083454.34315169,\n",
       "       1468363.78038259, 1326116.1692144 , 1314342.13126912,\n",
       "        920802.61547049,  780407.5175075 , 1678929.25641696,\n",
       "       1173317.53334908,  863938.9328098 ,  831496.26628413,\n",
       "       1552893.33508711,  814232.28006267,  628932.80758343,\n",
       "       1230219.74082397, 1009051.68059211, 1134177.07317901,\n",
       "       1759135.80092859, 1185004.78325484,  589995.18477429,\n",
       "       1392467.64100483, 1381608.25483992, 1726383.2023419 ,\n",
       "       1169019.22666496, 1019912.31831202, 1730374.72274501,\n",
       "       1094660.75381921, 1641553.67845519, 1425844.82715513,\n",
       "       1372526.00488651,  957370.57751744, 1758571.00815348,\n",
       "       1215039.09536614, 1228730.36130002,  949454.36633531,\n",
       "       1240479.54491375, 1259976.01494439, 1275292.19649843,\n",
       "       1125707.61597875, 1513693.61294972, 1559271.12556507,\n",
       "        798393.94186589, 1546245.51538456, 1278490.24324258,\n",
       "       1048130.23839099, 1258823.84340798, 1647111.76109968,\n",
       "       1110683.6841632 ,  474642.39148037, 1647293.82576375,\n",
       "       1314423.54403662, 1667425.25325174, 1673875.47188459,\n",
       "       1691912.07367635, 1809235.34507848, 1557560.5512079 ,\n",
       "        872642.52777441, 1383629.88700025, 1588489.67118679,\n",
       "       1394366.66112741, 1126784.35366251, 1453577.32336133,\n",
       "        891270.72483827,  929092.04974816, 1124619.49617814,\n",
       "       1189423.55209047, 1093519.52228545, 1352603.44998751,\n",
       "       1104585.87337573, 1041445.01140685, 1840823.20915414,\n",
       "       1269025.97772559, 1195900.79478608, 1982501.87427729,\n",
       "       1172318.99196702,  664063.71770282, 1516831.57884726,\n",
       "       1208883.11787161, 1122128.21428225, 1735594.69613153,\n",
       "        865742.02321862,  969966.3835537 , 1331559.38783137,\n",
       "        909257.9004405 , 1330515.26483805, 1267149.95713822,\n",
       "        971617.92004141, 1240075.55463063, 1990811.03720136,\n",
       "       1502950.35445567, 1142677.03057216, 1889344.61144088,\n",
       "       1542683.11071993, 1255495.76569687, 1266858.02867607,\n",
       "       1336567.39146564,  250802.81939456, 1128344.25997861,\n",
       "       1251829.92396526, 1365458.36530684, 1731381.40176637,\n",
       "       1048930.57357235, 1054510.18009109, 1426952.23586587,\n",
       "        930090.24788653,  866136.48384222, 1648292.85950441,\n",
       "       1183126.48975361, 1342085.93169395,  818757.06161575,\n",
       "       1563303.58722225, 1348611.35759588, 1815034.40114857,\n",
       "       1260025.43364773, 1220361.24580727,  648792.09698542,\n",
       "       1331385.0939024 ,  393964.58716725, 1283083.6608295 ,\n",
       "       1354368.39181222, 1594675.47475904, 1019367.99761248,\n",
       "       1154895.92538237, 1477596.50350931, 1606153.12418652,\n",
       "       1336855.88411859, 1787639.82065234, 1798694.76607084,\n",
       "        945560.93733933, 1240280.37820927, 1131796.8979187 ,\n",
       "       1506418.6409881 , 1172398.896648  , 1575031.41932382,\n",
       "       1620022.75906772,  328146.62358475,  423405.29747082,\n",
       "        808473.31516009, 1808607.71767717, 1161437.6335028 ,\n",
       "       1290105.28066273,  488495.93102175, 1355523.83914854,\n",
       "       1791747.74473713,  530190.7597526 ,  895829.94850127,\n",
       "       1234872.22552441, 1205813.61309886, 1142869.05130465,\n",
       "       1544709.4939468 , 1397728.97367436,  809314.75267993,\n",
       "        916515.5408125 , 1717159.66171621, 1071915.80625235,\n",
       "       1265594.03975673, 1563516.24575786, 1150899.12933388,\n",
       "       1087806.80720891, 1723353.35034214, 1401272.11235719,\n",
       "       1097379.04885339, 1642119.10859682, 1062758.32253009,\n",
       "       1729910.73155036, 1038760.9997124 , 1360748.10902365,\n",
       "       1345562.75881699, 1331901.19961839, 1002669.41036228,\n",
       "       1344417.49481131, 1130066.69205505, 1559820.77379468,\n",
       "       1706430.10202814, 2038885.49719396,  833086.74048143,\n",
       "       1045214.81139648, 1134207.36502681,  935557.862612  ,\n",
       "       1372030.49915441,  815056.03547679, 1247496.29555842,\n",
       "       1363128.23823989, 1496484.74422308, 2229545.19220177,\n",
       "        777432.21374589, 1191745.78488591, 1096163.09011392,\n",
       "       1272909.82942116, 1625931.48842005,  918993.98721316,\n",
       "       1006465.36876058, 1594755.7658865 ,  846284.31587657,\n",
       "        849305.27099749,  570666.9766973 , 1801007.09806189,\n",
       "       1485857.7010122 , 1686344.68445166, 1231934.75994846,\n",
       "       1356156.40905842, 1097791.78972486, 1193394.13367233,\n",
       "       1126904.82603302, 1084596.34251133, 1044677.128424  ,\n",
       "       2012287.09940269,  749703.83822341, 1125570.87522046,\n",
       "       1353902.80662881, 1582337.54477098, 1132363.84344702,\n",
       "       1127593.01594927, 1558175.09336577, 1470124.64995527,\n",
       "       1170136.96370427, 1057993.19774258, 1727175.42480496,\n",
       "       1099174.32885364, 1878927.95333323,  953041.98641305,\n",
       "        220148.95728994, 1469299.4012682 , 1351934.36007778,\n",
       "       1965515.79787762,  471073.53784835, 1078285.07736102,\n",
       "       1398197.71162202, 1034751.6214149 ,  792832.03083203,\n",
       "       1446399.20930511, 1103988.74382329, 1691306.84800526,\n",
       "       1107502.12092221, 1078162.52791708, 1708451.3561126 ,\n",
       "       1134799.50112101,  872219.41731097,  871276.6337552 ,\n",
       "        566610.74806608, 1539564.17473228, 1215068.56129604,\n",
       "       1750435.57551414,  780818.77892039, 1005278.8908274 ,\n",
       "       1699864.56225465,  613683.19049426, 1238072.22784607,\n",
       "       1590149.31057521, 1332467.65674073, 1110842.05743917,\n",
       "       1279563.18720233,  894290.71453523,  812546.8148645 ,\n",
       "       1551251.04056016, 1359009.91049348, 1253121.43582776,\n",
       "       1229760.03037545, 1499246.99540704,  919454.72722129,\n",
       "       1331679.12723297, 1089870.75329734,  958885.84241772,\n",
       "       1064647.10625584,  941059.19510286,  968260.24774319,\n",
       "       1046073.30643464, 1645969.84910694, 1166194.65703568,\n",
       "       1312898.64523883, 1624075.1183887 , 1122680.60708451,\n",
       "       1293518.53738823, 1362243.66193653, 1044593.86406878,\n",
       "       1045450.3409926 , 1446228.97176106, 1314918.61125719,\n",
       "       1054569.81836383, 1953570.35858134, 1514052.36511509,\n",
       "       1204362.0007214 , 1982821.65391243,  680652.28599645,\n",
       "       1723833.1028912 , 1461941.72132161, 1413218.72506781,\n",
       "       1074165.48822053, 1048173.12975262, 1205533.14320529,\n",
       "        997083.01429422, 1087634.17215582,  799234.75302648,\n",
       "        972455.40342001,  801856.53463554,  874552.70140583,\n",
       "       1379123.09013505, 1126134.74113496, 1298148.81659145,\n",
       "       1428161.98519949, 1355123.02342546, 1553045.32879594,\n",
       "       1870468.89055136,  941675.18754439,  710776.75163677,\n",
       "       1590857.45772608, 1458290.81462446,  666201.26424408,\n",
       "       1740887.20683925, 1311991.94997945, 1798637.13769294,\n",
       "        833944.9042026 , 1302260.14903338, 1587128.52619347,\n",
       "       1317721.78646457, 1668052.02029736,  936367.43448359,\n",
       "       1700849.45729715, 1165066.71552696, 1555174.98797143,\n",
       "       1203157.19294374, 2182009.99760784, 1050703.04898764,\n",
       "       1085255.43002699,  687418.2413657 , 1225471.31016553,\n",
       "       1236416.18898843, 1234673.47753594,  930443.0490492 ,\n",
       "       1501992.00715114, 1273737.55032504,  950041.90286064,\n",
       "       1222288.62260244, 1196391.39810298, 1126494.323256  ,\n",
       "       1430405.24832769,  654124.8831567 ,  895637.24071162,\n",
       "        292231.65792553, 1320679.35025207,  805569.98785657,\n",
       "       1233937.60765139, 1104581.67567423,  908260.05005094,\n",
       "       1127651.17125846, 1746143.30165373,  550595.13591362,\n",
       "        887562.56379595, 1318241.03673407, 1104224.94782251,\n",
       "       1268614.59782285,  773344.86318576, 1279225.19247096,\n",
       "       1409430.68554383, 1438394.94609839, 1242233.55899958,\n",
       "        976371.07650901,  961172.77960729, 1405311.34334234,\n",
       "       1231311.47373034, 1416589.57175405, 1039865.66760668,\n",
       "        405050.76035601, 1831567.93596   ,  994168.26437392,\n",
       "       1601760.17451136, 1894119.37065231,  838793.55050793,\n",
       "        942753.23147991, 2020611.40750524,  892650.27370657,\n",
       "       1103392.89712649, 1856735.83501372, 1374941.34714029,\n",
       "       1347030.9418317 ,  839567.56053583, 1868960.81804402,\n",
       "       1046950.66016825,  837784.75799152, 1243870.52458918,\n",
       "        945414.8784892 , 1003374.52464082, 1290578.27919801,\n",
       "       1173331.32430923, 1522296.87016011, 1104182.96400372,\n",
       "       1284736.34065318,  666922.2209623 ,  673548.38060283,\n",
       "        839842.87494546, 1485091.87949437, 1758926.1001963 ,\n",
       "        616983.40087472, 1267547.14699049,  899323.40602058,\n",
       "       1158839.68496783,  754436.13286385, 1150948.88850265,\n",
       "       1255846.0700254 ,  771868.76930345, 1323417.05382824,\n",
       "        929827.54051279, 1067842.89483073, 1110264.9618046 ,\n",
       "       1540579.01469861,  806070.2039711 , 1375018.45965384,\n",
       "       1583012.8637186 , 1215804.72853409, 1846871.22490026,\n",
       "       1719674.14920754, 1072371.6108295 , 1261854.33505624,\n",
       "       1801461.10335271, 1289458.68342156, 1371299.08117235,\n",
       "        983760.56441569, 1324124.02939088, 1051323.27262374,\n",
       "       1007052.9443188 , 1401321.32709743, 1571085.17286577,\n",
       "       1229001.87119959, 1283186.61191567, 1288554.56408168,\n",
       "       1415412.18859016, 1103447.66939766, 1650111.15596409,\n",
       "       1351906.62870447,  806922.81052761, 1101879.75531369,\n",
       "       1087454.15325061, 1407522.12276368, 1458792.37938237,\n",
       "       1472979.40100164, 1430788.15060835, 1233623.36217147,\n",
       "       1870533.17388317, 1257158.33660787, 1600913.12822158,\n",
       "       1356762.37639189, 1319817.63503686, 1236051.9108198 ,\n",
       "       1268181.38595477, 1129570.75163033, 1705669.67477113,\n",
       "       1411102.91700132, 2273540.41800102, 1207547.00425412,\n",
       "        899781.3847036 , 1254140.99658748, 1542438.22564716,\n",
       "        657936.46719116, 1385268.91742449,  878970.16758734,\n",
       "       1109196.43128029, 1353391.17019487, 1696115.98345093,\n",
       "       1413282.72684313, 1827087.79734247, 1120215.62692099,\n",
       "       1356976.31422317, 1223780.10870815, 1248092.82209771,\n",
       "       1769843.13529577,  949225.39612295, 1477952.65052356,\n",
       "       1255282.59862256,  426003.13583316,  707530.77134158,\n",
       "       1696903.01183506, 1163050.51049259, 1323411.5033268 ,\n",
       "       2075338.18777907, 1574543.41531418, 1817164.81632782,\n",
       "       1027880.42644512,  984572.34397046, 1347495.61247839,\n",
       "       1405652.70637065, 1378100.57654898, 1725502.2933008 ,\n",
       "       1380099.65837807, 1577843.39344022, 1624768.07507459,\n",
       "        620250.96994802,  678847.62293504, 1255463.63367927,\n",
       "       1493178.26766321, 1251118.57109733, 1531225.73325   ,\n",
       "       1038742.17013484,  158813.64470869,  670803.74477208,\n",
       "       1358866.25754787, 1116231.80776672,  825567.42192957,\n",
       "       1205988.87074548, 1163767.67010631, 1795770.41249053,\n",
       "       1037902.14643255, 1066195.46094948, 1082294.65493931,\n",
       "       1435062.76289096, 1454466.64232999, 1330792.13240183,\n",
       "       1690582.50968939, 1069251.9487768 ,  808110.53863472,\n",
       "        625553.6464463 ,  919490.05366638, 1353662.2546001 ,\n",
       "       1184444.42780225, 1539245.25567221, 1208513.48652763,\n",
       "        837956.30959035, 1659341.88709898, 1392103.22796819,\n",
       "       1589783.52479679, 1262963.45793841, 1511554.88048253,\n",
       "        883619.90417901, 1022564.2478265 , 2053151.68156221,\n",
       "       1324454.22123298, 1339389.73837403,  916369.74594413,\n",
       "       1080360.83870116, 1124354.20250161, 1225725.51762075,\n",
       "       1036709.01383128, 1234858.0860976 , 1055632.34784629,\n",
       "       1517840.47571422, 1327306.74681115, 1172875.46526553,\n",
       "        663510.22702194,  994880.08825416,  659636.17716454,\n",
       "       1215833.3865498 , 1289298.54249165, 1049066.68537325,\n",
       "       1002058.65544564, 1479008.16442341, 1133499.87344621,\n",
       "       1343292.37992994, 1240281.28609788, 1875671.59202051,\n",
       "       1384525.66937356,  900349.97821838, 1491477.28606211,\n",
       "        291738.12188895, 1146285.9434131 , 1367218.08956031,\n",
       "       1289910.89226899, 1291184.80884029, 1824408.57177525,\n",
       "       1491241.2227773 , 1389476.45607064, 1321293.64559164,\n",
       "       1284967.15702986,  846503.99338371, 1311564.60147658,\n",
       "       1451747.22228778, 1884449.22275646, 1289541.93048528,\n",
       "        794205.10442291, 1192680.65890835, 1126098.68560079,\n",
       "       1509907.60069687, 1913607.45329345,  829309.12969399,\n",
       "        595859.28942419, 1582813.3055729 , 1035614.81747863,\n",
       "       1456522.8591344 ,  925110.32853942, 1095178.12785018,\n",
       "       1245801.01775937, 1464082.99859734, 1554146.7720129 ,\n",
       "        965107.42154312, 1356373.22425334, 1673565.88692989,\n",
       "       1158338.71531108, 1281278.86098632,  787926.23885863,\n",
       "       1408326.67504604, 1269972.82557244,  440821.15599144,\n",
       "       1191806.26503558,  856260.95454576, 1026274.59180668,\n",
       "        915461.63191209, 1813981.92931032, 1260397.95598962,\n",
       "       1238979.10170183, 1387410.70388008,  804543.00233416,\n",
       "       1184273.71677171,  895553.53733314,  666753.31379016,\n",
       "        494113.56401944, 1433820.74136242,  920519.49342551,\n",
       "       1552699.63507721, 1314958.29825851, 1408137.11007595,\n",
       "       1105205.03868602, 1225374.9668051 , 1555967.60398297,\n",
       "        764356.87177392, 1209380.67918476, 1307446.07617411,\n",
       "       1156888.49949617, 1477617.77388599, 1570107.70957062,\n",
       "        888604.61517341, 1357192.46882878, 1122559.1071572 ,\n",
       "       1611585.4588343 , 1055610.51785009, 1553877.5957549 ,\n",
       "       1094835.14060777,  925610.91139446, 1443072.82447055,\n",
       "        887534.1374447 ,  456214.10636656, 1667261.18226071,\n",
       "       1271904.57635987, 1182679.40285231, 1649171.89032533,\n",
       "       1423009.73879234, 1484679.82766679, 1033297.25906527,\n",
       "       1292529.61451445, 1145394.95691419,  978455.62438492,\n",
       "       1249136.06087141, 1127225.37341876,  892653.77412716,\n",
       "       1511054.90056614,  873016.64861266,  776802.43645933,\n",
       "       1039353.56986007, 1315157.46162109, 1584289.80977678,\n",
       "        987849.3901897 , 1368365.93287136, 1100557.38102402,\n",
       "       1365918.94448344,  935645.93243935,  324562.71318829,\n",
       "        882741.4389428 , 1276731.80519713, 1198249.83684015,\n",
       "       1049018.28659815,  636396.7037124 , 1449632.62265719,\n",
       "       1383995.417274  , 1298088.72377639, 1540539.70367801,\n",
       "       1493896.99889277, 2343746.35475218, 1872235.70486221,\n",
       "       1439963.7293974 ,  764711.28781408,  800048.08135589,\n",
       "       1913553.84633185,  788172.68793124, 1569240.63551064,\n",
       "       1490513.58848105, 1140794.46978976, 1258627.64263355,\n",
       "        711243.70457631, 1250422.00060581, 1164795.5837308 ,\n",
       "       1719556.05365748, 1144266.71457958, 1494354.61963915,\n",
       "       1483904.82826235, 1384296.65337772, 2120401.56572417,\n",
       "       1436436.14421377, 1360879.56964684,  948664.59412427,\n",
       "       1531287.09616398,  891575.11288498, 1323714.31616798,\n",
       "        743700.71602049, 1226590.09491137,  990596.20736163,\n",
       "       1233992.23613085, 1418498.89087371, 1538321.56247525,\n",
       "        496671.07127634, 1441826.36086485, 1807086.36903315,\n",
       "       1288631.96182057, 1067396.35435427, 1234051.48903035,\n",
       "       1510931.44172461, 1238596.80367902, 1079587.86267727,\n",
       "       1096446.24680233, 1340780.37376665, 1728349.44751938,\n",
       "       1182885.47597413, 1396880.83572716,  848540.01935768,\n",
       "       1118181.60414617, 1450084.64438066, 2095131.06695887,\n",
       "       1432554.8369338 , 1097488.60717876, 1543895.07644596,\n",
       "        589701.16866297, 1632891.15370816, 1462326.34718035,\n",
       "       1251619.86424647, 1215142.06779053,  887591.37509515,\n",
       "       1012091.21646187, 1528992.42455722, 1224454.45215524,\n",
       "       1657636.49616451, 1521618.14196433, 1395801.01427134,\n",
       "       1559056.91331875, 1474320.2159518 , 1266083.75708837,\n",
       "        598008.41675619,  775371.04758185, 1626814.6124692 ,\n",
       "       1184704.01403565, 1378438.85088416, 1999851.71462622,\n",
       "        519552.57086123,  939469.86749699, 1730275.64303092,\n",
       "        787500.26420787, 1266092.51639942, 1334783.79526669,\n",
       "       1311501.65110258,  790924.30378168, 1701593.43687928,\n",
       "       1031290.33368498, 1384964.63414445, 1881154.94357247,\n",
       "       1135281.19135162, 1155858.13118106,  821938.51015299,\n",
       "       1392569.03068382, 1828630.6890108 , 1499599.51634769,\n",
       "       1768913.65916671, 2140238.41934353, 1312065.46959489,\n",
       "       1297778.51810689,  954090.00438522, 1164766.05704707,\n",
       "       1762265.19883864, 1272190.22341176, 1337046.93436166,\n",
       "       1734432.16375048, 1241997.26902784, 1545171.11180707,\n",
       "       1410803.40672303,  842583.16037094, 1410431.15875628,\n",
       "        843468.41686778,  963938.51049702, 1359381.61691094,\n",
       "       1086200.9207718 , 1724349.54285902, 1488902.61977152,\n",
       "       1435137.84302696, 2032773.75166519, 1550293.84023723,\n",
       "       1117672.92731721, 1228981.23802782, 1024338.06123588,\n",
       "       1152686.83818179, 1016242.46686364, 1375666.28141413,\n",
       "       1050507.27599655, 1181790.30430949, 1525713.82292139,\n",
       "       1681606.23746156, 1205200.14071651, 1473170.42751321,\n",
       "       1290698.64726292, 1157017.91864223, 1637827.88146071,\n",
       "        591770.21795497, 1900211.94766033, 1461556.14927682,\n",
       "       1338718.53329421, 1365231.39271031,  966650.94972922,\n",
       "       1677602.58059847, 1401419.04822992, 2018052.80955535,\n",
       "       1183950.82427373, 1450992.61747403, 1177265.33458142,\n",
       "        843749.10312845, 1497536.13019635, 1529073.71346475,\n",
       "        558964.87508147, 1261583.2192759 , 1753273.50402693,\n",
       "       1500926.03391635, 1059402.18036569, 1709352.5707534 ,\n",
       "       1112889.9392433 , 1247534.54359931,  853834.333056  ,\n",
       "        706144.92549257, 1070761.99800867, 1659159.91706308,\n",
       "       1062693.4703681 , 1073545.82718401, 1036990.30062324,\n",
       "       1052078.86312731, 1568784.39882065, 1309154.63561277,\n",
       "        858450.71935711,  988956.07442349, 1396520.63086133,\n",
       "       1769711.99813365, 1283298.07540821, 1515402.04421687,\n",
       "       1256935.59508284, 1320333.17632623, 1505221.09859151,\n",
       "       1110347.82733454,  771327.59692895, 1189663.34806261,\n",
       "       1128591.58671394, 1533502.4634133 , 2187616.08323863,\n",
       "       1177106.83506023, 1490349.58869886, 1410251.5440795 ,\n",
       "       1461916.30494554, 1548793.63000759, 2006242.92462349,\n",
       "       1312408.85291948, 1581878.60451192,  631870.52706524,\n",
       "       2015104.50190244, 1056903.78936517, 1547405.20803519,\n",
       "        875505.84365161, 1826751.87241242, 1174567.82091767,\n",
       "        844395.35409811, 1682709.20725988, 1275129.63095662,\n",
       "       1526887.72765502, 1000089.93827973, 1529941.81041016,\n",
       "        520249.23833003, 1509899.51986588, 1245221.05841925,\n",
       "       1415065.50463792, 1664533.90291694, 1299536.2446968 ,\n",
       "       1475156.35270561, 1587824.19159122, 1087189.99440689,\n",
       "       1242310.46082559,  932496.32274209, 1457832.98702953,\n",
       "       1327013.30958709, 1365624.93545962, 1065213.12237315,\n",
       "       1097280.88986157])"
      ]
     },
     "execution_count": 43,
     "metadata": {},
     "output_type": "execute_result"
    }
   ],
   "source": [
    "lr.predict(X_test)"
   ]
  },
  {
   "cell_type": "code",
   "execution_count": 46,
   "id": "3b5eb3ea",
   "metadata": {},
   "outputs": [
    {
     "data": {
      "text/plain": [
       "<matplotlib.collections.PathCollection at 0x294db5b9cc0>"
      ]
     },
     "execution_count": 46,
     "metadata": {},
     "output_type": "execute_result"
    },
    {
     "data": {
      "image/png": "[encoded data removed]",
      "text/plain": [
       "<Figure size 432x288 with 1 Axes>"
      ]
     },
     "metadata": {
      "needs_background": "light"
     },
     "output_type": "display_data"
    }
   ],
   "source": [
    "plt.scatter(y_test,lr.predict(X_test))"
   ]
  },
  {
   "cell_type": "code",
   "execution_count": null,
   "id": "e782baa6",
   "metadata": {},
   "outputs": [],
   "source": []
  }
 ],
 "metadata": {
  "kernelspec": {
   "display_name": "Python 3 (ipykernel)",
   "language": "python",
   "name": "python3"
  },
  "language_info": {
   "codemirror_mode": {
    "name": "ipython",
    "version": 3
   },
   "file_extension": ".py",
   "mimetype": "text/x-python",
   "name": "python",
   "nbconvert_exporter": "python",
   "pygments_lexer": "ipython3",
   "version": "3.10.2"
  }
 },
 "nbformat": 4,
 "nbformat_minor": 5
}
